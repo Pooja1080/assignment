{
 "cells": [
  {
   "cell_type": "raw",
   "id": "9a7eca1c",
   "metadata": {},
   "source": [
    "Attached to this email are the training (train_set.csv) and testing (test_set.csv) data for the text \n",
    "classification task.\n",
    "Columns:\n",
    "label:12 classes\n",
    "text: description of the code  \n",
    "\n",
    "Build the algorithm to classify text into these 12 categories.\n",
    "\n",
    "Submit: Code and Prediction on test_set.\n",
    "\n",
    "Please share the code in a repo on GitHub or GitLab without the data files (images and CSV files) in it. \n",
    "For the outputs (aligned images and prediction on the test set), send them as attachments in this email thread."
   ]
  },
  {
   "cell_type": "code",
   "execution_count": 18,
   "id": "f0605e79",
   "metadata": {},
   "outputs": [],
   "source": [
    "import nltk\n",
    "import pandas as pd\n",
    "import seaborn as sns\n",
    "\n",
    "from sklearn.feature_extraction.text import CountVectorizer\n",
    "from sklearn.feature_extraction.text import TfidfTransformer\n",
    "\n",
    "from sklearn.metrics import accuracy_score, confusion_matrix, f1_score, classification_report\n",
    "from sklearn.model_selection import train_test_split\n",
    "from sklearn.naive_bayes import MultinomialNB\n",
    "\n",
    "from sklearn.pipeline import Pipeline\n"
   ]
  },
  {
   "cell_type": "code",
   "execution_count": 20,
   "id": "f94e99ea",
   "metadata": {},
   "outputs": [],
   "source": [
    "def print_metrics(y_act, y_pred):\n",
    "    print(\"Accuracy:\\t\", accuracy_score(y_act, y_pred))\n",
    "    print(\"Confusion matrix:\\n\",confusion_matrix(y_act, y_pred))\n",
    "    print(\"Classification Report:\\n\",classification_report(y_act, y_pred))"
   ]
  },
  {
   "cell_type": "code",
   "execution_count": 3,
   "id": "992c2a31",
   "metadata": {
    "scrolled": true
   },
   "outputs": [],
   "source": [
    "train_df = pd.read_csv('../data/train_set.csv',encoding = \"ISO-8859-1\", engine='python')\n",
    "test_df = pd.read_csv('../data/test_set.csv',encoding = \"ISO-8859-1\", engine='python')"
   ]
  },
  {
   "cell_type": "code",
   "execution_count": 4,
   "id": "deac3cfb",
   "metadata": {},
   "outputs": [
    {
     "data": {
      "text/plain": [
       "((23615, 2), (5894, 1))"
      ]
     },
     "execution_count": 4,
     "metadata": {},
     "output_type": "execute_result"
    }
   ],
   "source": [
    "train_df.shape, test_df.shape"
   ]
  },
  {
   "cell_type": "code",
   "execution_count": 5,
   "id": "fdf5631b",
   "metadata": {},
   "outputs": [
    {
     "data": {
      "text/html": [
       "<div>\n",
       "<style scoped>\n",
       "    .dataframe tbody tr th:only-of-type {\n",
       "        vertical-align: middle;\n",
       "    }\n",
       "\n",
       "    .dataframe tbody tr th {\n",
       "        vertical-align: top;\n",
       "    }\n",
       "\n",
       "    .dataframe thead th {\n",
       "        text-align: right;\n",
       "    }\n",
       "</style>\n",
       "<table border=\"1\" class=\"dataframe\">\n",
       "  <thead>\n",
       "    <tr style=\"text-align: right;\">\n",
       "      <th></th>\n",
       "      <th>label</th>\n",
       "      <th>text</th>\n",
       "    </tr>\n",
       "  </thead>\n",
       "  <tbody>\n",
       "    <tr>\n",
       "      <th>0</th>\n",
       "      <td>85389000</td>\n",
       "      <td>pdscpm gb part of panel of chiller</td>\n",
       "    </tr>\n",
       "    <tr>\n",
       "      <th>1</th>\n",
       "      <td>85389000</td>\n",
       "      <td>nm  p economical extended rot hand parts for c...</td>\n",
       "    </tr>\n",
       "    <tr>\n",
       "      <th>2</th>\n",
       "      <td>85389000</td>\n",
       "      <td>lv ma pd trip unit for cvs parts of circuit br...</td>\n",
       "    </tr>\n",
       "    <tr>\n",
       "      <th>3</th>\n",
       "      <td>85389000</td>\n",
       "      <td>lv na p trip unit for cvs switch parts of circ...</td>\n",
       "    </tr>\n",
       "    <tr>\n",
       "      <th>4</th>\n",
       "      <td>85389000</td>\n",
       "      <td>lv tmd pd trip unit for cvs parts of circuitbr...</td>\n",
       "    </tr>\n",
       "  </tbody>\n",
       "</table>\n",
       "</div>"
      ],
      "text/plain": [
       "      label                                               text\n",
       "0  85389000                 pdscpm gb part of panel of chiller\n",
       "1  85389000  nm  p economical extended rot hand parts for c...\n",
       "2  85389000  lv ma pd trip unit for cvs parts of circuit br...\n",
       "3  85389000  lv na p trip unit for cvs switch parts of circ...\n",
       "4  85389000  lv tmd pd trip unit for cvs parts of circuitbr..."
      ]
     },
     "execution_count": 5,
     "metadata": {},
     "output_type": "execute_result"
    }
   ],
   "source": [
    "train_df.head()"
   ]
  },
  {
   "cell_type": "code",
   "execution_count": 6,
   "id": "97206a89",
   "metadata": {},
   "outputs": [
    {
     "data": {
      "text/plain": [
       "'a compact fuseholder nwcmf electrical fuse linksactual user '"
      ]
     },
     "execution_count": 6,
     "metadata": {},
     "output_type": "execute_result"
    }
   ],
   "source": [
    "train_df['text'][11]"
   ]
  },
  {
   "cell_type": "code",
   "execution_count": 7,
   "id": "7388f01d",
   "metadata": {},
   "outputs": [
    {
     "data": {
      "text/plain": [
       "87089900    988\n",
       "87082900    968\n",
       "85369090    272\n",
       "39269099    226\n",
       "73181500    141\n",
       "85366990    110\n",
       "85389000     70\n",
       "85177090     22\n",
       "85364900      9\n",
       "85238090      1\n",
       "84713010      1\n",
       "Name: label, dtype: int64"
      ]
     },
     "execution_count": 7,
     "metadata": {},
     "output_type": "execute_result"
    }
   ],
   "source": [
    "train_df[train_df['text'].str.contains('captive consumption')]['label'].value_counts()"
   ]
  },
  {
   "cell_type": "code",
   "execution_count": 8,
   "id": "0e9b149f",
   "metadata": {},
   "outputs": [],
   "source": [
    "## map labels \n",
    "label_map = {j:i for (i,j) in enumerate(train_df['label'].unique())}\n",
    "label_rev_map = {i:j for (i,j) in enumerate(train_df['label'].unique())}\n",
    "\n",
    "## mapping labels\n",
    "train_df['label'] = train_df['label'].map(label_map)"
   ]
  },
  {
   "cell_type": "code",
   "execution_count": 9,
   "id": "78f23ef8",
   "metadata": {},
   "outputs": [],
   "source": [
    "def add_features(train_df):\n",
    "    train_df['char_count'] = train_df['text'].apply(lambda x:len(x))\n",
    "    train_df['word_count'] = train_df['text'].apply(lambda x:len(x.split()))\n",
    "    return train_df"
   ]
  },
  {
   "cell_type": "code",
   "execution_count": 10,
   "id": "62f7c51d",
   "metadata": {},
   "outputs": [],
   "source": [
    "train_df = add_features(train_df)\n",
    "test_df = add_features(test_df)"
   ]
  },
  {
   "cell_type": "markdown",
   "id": "26b6a5a1",
   "metadata": {},
   "source": [
    "## Train val split "
   ]
  },
  {
   "cell_type": "code",
   "execution_count": 11,
   "id": "e2c23c6e",
   "metadata": {},
   "outputs": [],
   "source": []
  },
  {
   "cell_type": "code",
   "execution_count": 12,
   "id": "845ce976",
   "metadata": {},
   "outputs": [],
   "source": [
    "train_df, val_df = train_test_split(train_df, test_size=0.2)"
   ]
  },
  {
   "cell_type": "code",
   "execution_count": 13,
   "id": "b2efc33d",
   "metadata": {},
   "outputs": [
    {
     "data": {
      "text/plain": [
       "((18892, 4), (4723, 4))"
      ]
     },
     "execution_count": 13,
     "metadata": {},
     "output_type": "execute_result"
    }
   ],
   "source": [
    "train_df.shape, val_df.shape"
   ]
  },
  {
   "cell_type": "code",
   "execution_count": 14,
   "id": "bb678a0b",
   "metadata": {},
   "outputs": [],
   "source": [
    "train_df = train_df.reset_index(drop=True)\n",
    "val_df = val_df.reset_index(drop=True)"
   ]
  },
  {
   "cell_type": "code",
   "execution_count": 15,
   "id": "776fca21",
   "metadata": {},
   "outputs": [
    {
     "name": "stdout",
     "output_type": "stream",
     "text": [
      "0     2345\n",
      "1     2063\n",
      "2     1967\n",
      "3     1756\n",
      "4     1607\n",
      "5     1563\n",
      "6     1382\n",
      "7     1347\n",
      "8     1322\n",
      "9     1301\n",
      "10    1166\n",
      "11    1073\n",
      "Name: label, dtype: int64\n"
     ]
    },
    {
     "name": "stderr",
     "output_type": "stream",
     "text": [
      "/home/arya/anaconda3/envs/my_env/lib/python3.7/site-packages/seaborn/_decorators.py:43: FutureWarning: Pass the following variables as keyword args: x, y. From version 0.12, the only valid positional argument will be `data`, and passing other arguments without an explicit keyword will result in an error or misinterpretation.\n",
      "  FutureWarning\n"
     ]
    },
    {
     "data": {
      "text/plain": [
       "<AxesSubplot:ylabel='label'>"
      ]
     },
     "execution_count": 15,
     "metadata": {},
     "output_type": "execute_result"
    },
    {
     "data": {
      "image/png": "[encoded data removed]",
      "text/plain": [
       "<Figure size 432x288 with 1 Axes>"
      ]
     },
     "metadata": {
      "needs_background": "light"
     },
     "output_type": "display_data"
    }
   ],
   "source": [
    "x=train_df['label'].value_counts()\n",
    "print(x)\n",
    "sns.barplot(x.index,x)"
   ]
  },
  {
   "cell_type": "markdown",
   "id": "1d74593b",
   "metadata": {},
   "source": [
    "<h1> 1. BOW"
   ]
  },
  {
   "cell_type": "code",
   "execution_count": 14,
   "id": "bf2fd7a5",
   "metadata": {},
   "outputs": [
    {
     "data": {
      "text/plain": [
       "(18892, 12458)"
      ]
     },
     "execution_count": 14,
     "metadata": {},
     "output_type": "execute_result"
    }
   ],
   "source": [
    "count_vect = CountVectorizer()\n",
    "X_train_counts = count_vect.fit_transform(train_df.text)\n",
    "X_train_counts.shape"
   ]
  },
  {
   "cell_type": "code",
   "execution_count": 15,
   "id": "f5bd8914",
   "metadata": {},
   "outputs": [
    {
     "data": {
      "text/plain": [
       "((4723, 12458), (5894, 12458))"
      ]
     },
     "execution_count": 15,
     "metadata": {},
     "output_type": "execute_result"
    }
   ],
   "source": [
    "X_val_counts = count_vect.transform(val_df.text)\n",
    "\n",
    "X_test_counts = count_vect.transform(test_df.text)\n",
    "X_val_counts.shape, X_test_counts.shape"
   ]
  },
  {
   "cell_type": "markdown",
   "id": "58e67825",
   "metadata": {},
   "source": [
    "<H1> 2. TFIDF"
   ]
  },
  {
   "cell_type": "code",
   "execution_count": 16,
   "id": "98d17f52",
   "metadata": {},
   "outputs": [
    {
     "data": {
      "text/plain": [
       "(18892, 12458)"
      ]
     },
     "execution_count": 16,
     "metadata": {},
     "output_type": "execute_result"
    }
   ],
   "source": [
    "tfidf_transformer = TfidfTransformer()\n",
    "X_train_tfidf = tfidf_transformer.fit_transform(X_train_counts)\n",
    "X_train_tfidf.shape"
   ]
  },
  {
   "cell_type": "code",
   "execution_count": 17,
   "id": "68599c25",
   "metadata": {},
   "outputs": [
    {
     "data": {
      "text/plain": [
       "((4723, 12458), (5894, 12458))"
      ]
     },
     "execution_count": 17,
     "metadata": {},
     "output_type": "execute_result"
    }
   ],
   "source": [
    "X_val_tfidf = tfidf_transformer.transform(X_val_counts)\n",
    "\n",
    "X_test_tfidf = tfidf_transformer.transform(X_test_counts)\n",
    "X_val_tfidf.shape, X_test_tfidf.shape"
   ]
  },
  {
   "cell_type": "markdown",
   "id": "4b540e0a",
   "metadata": {},
   "source": [
    "<h1> 3. Modelling"
   ]
  },
  {
   "cell_type": "markdown",
   "id": "2bd84009",
   "metadata": {},
   "source": [
    "<h2> 3.1 Naive Bayes"
   ]
  },
  {
   "cell_type": "code",
   "execution_count": 18,
   "id": "79360d23",
   "metadata": {},
   "outputs": [],
   "source": [
    "clf = MultinomialNB().fit(X_train_tfidf, train_df.label)\n",
    "\n",
    "## predict\n",
    "ypred_val_nb = clf.predict(X_val_tfidf)"
   ]
  },
  {
   "cell_type": "code",
   "execution_count": 31,
   "id": "e2928104",
   "metadata": {},
   "outputs": [
    {
     "name": "stdout",
     "output_type": "stream",
     "text": [
      "Accuracy:\t 0.895617192462418\n",
      "Confusion matrix:\n",
      " [[518   2  23  10   1   9   6   0   2   0   1   0]\n",
      " [  6 533   1   8   0   0   0   0   1   0   1   0]\n",
      " [ 22   1 379   4   3  24  48   0   2   0   0   0]\n",
      " [ 25  18   6 341  18   3   2   1  17   1  10   0]\n",
      " [ 10  13   5   9 344   1   0   0   7   0   3   0]\n",
      " [ 21   3  32   2   1 315   2   0   0   0   0   0]\n",
      " [  4   0   7   0   2   0 325   0   2   0   0   0]\n",
      " [  3   0   0   1   2   0   0 347   1   0   0   0]\n",
      " [  8   5   3  12   9   0   0   0 266   0  14   0]\n",
      " [  0   0   0   0   0   0   0   0   0 317   0   0]\n",
      " [  5   0   1   1   1   1   0   0  23   0 270   0]\n",
      " [  0   0   0   3   0   0   0   0   0   0   0 275]]\n",
      "Classification Report:\n",
      "               precision    recall  f1-score   support\n",
      "\n",
      "           0       0.83      0.91      0.87       572\n",
      "           1       0.93      0.97      0.95       550\n",
      "           2       0.83      0.78      0.81       483\n",
      "           3       0.87      0.77      0.82       442\n",
      "           4       0.90      0.88      0.89       392\n",
      "           5       0.89      0.84      0.86       376\n",
      "           6       0.85      0.96      0.90       340\n",
      "           7       1.00      0.98      0.99       354\n",
      "           8       0.83      0.84      0.83       317\n",
      "           9       1.00      1.00      1.00       317\n",
      "          10       0.90      0.89      0.90       302\n",
      "          11       1.00      0.99      0.99       278\n",
      "\n",
      "    accuracy                           0.90      4723\n",
      "   macro avg       0.90      0.90      0.90      4723\n",
      "weighted avg       0.90      0.90      0.89      4723\n",
      "\n"
     ]
    }
   ],
   "source": [
    "print_metrics(val_df['label'], ypred_val_nb)"
   ]
  },
  {
   "cell_type": "markdown",
   "id": "83869cac",
   "metadata": {},
   "source": [
    "<h2> 3.2 SVM"
   ]
  },
  {
   "cell_type": "code",
   "execution_count": 35,
   "id": "0f35cd42",
   "metadata": {},
   "outputs": [
    {
     "name": "stderr",
     "output_type": "stream",
     "text": [
      "/home/arya/anaconda3/envs/my_env/lib/python3.7/site-packages/sklearn/linear_model/_stochastic_gradient.py:573: ConvergenceWarning: Maximum number of iteration reached before convergence. Consider increasing max_iter to improve the fit.\n",
      "  ConvergenceWarning)\n"
     ]
    }
   ],
   "source": [
    "from sklearn.linear_model import SGDClassifier\n",
    "clf = SGDClassifier(loss='hinge', penalty='l2',alpha=1e-3, max_iter=5, \\\n",
    "                    random_state=42).fit(X_train_tfidf, train_df.label)\n",
    "\n",
    "## predict\n",
    "ypred_val_svm = clf.predict(X_val_tfidf)"
   ]
  },
  {
   "cell_type": "code",
   "execution_count": 36,
   "id": "a9d35f5e",
   "metadata": {},
   "outputs": [
    {
     "name": "stdout",
     "output_type": "stream",
     "text": [
      "Accuracy:\t 0.8615286893923354\n",
      "Confusion matrix:\n",
      " [[486   5  35  12   3  12   8   0  10   0   0   1]\n",
      " [  8 530   0   5   3   1   0   0   3   0   0   0]\n",
      " [ 27  11 306   2   2  73  57   0   2   0   2   1]\n",
      " [ 27  34   4 309  16   7   4   1  24   1  10   5]\n",
      " [  3  11   3   8 356   1   0   0   7   0   3   0]\n",
      " [ 19   7  22   3   9 309   6   0   1   0   0   0]\n",
      " [  2   0   3   0   3   0 332   0   0   0   0   0]\n",
      " [  3   0   0   3   0   0   0 348   0   0   0   0]\n",
      " [ 17   3   1  16   6   0   2   0 254   0  16   2]\n",
      " [  0   0   0   0   0   0   0   0   0 317   0   0]\n",
      " [  7   0   0   2   0   2   0   0  45   0 246   0]\n",
      " [  0   0   0   2   0   0   0   0   0   0   0 276]]\n",
      "Classification Report:\n",
      "               precision    recall  f1-score   support\n",
      "\n",
      "           0       0.81      0.85      0.83       572\n",
      "           1       0.88      0.96      0.92       550\n",
      "           2       0.82      0.63      0.71       483\n",
      "           3       0.85      0.70      0.77       442\n",
      "           4       0.89      0.91      0.90       392\n",
      "           5       0.76      0.82      0.79       376\n",
      "           6       0.81      0.98      0.89       340\n",
      "           7       1.00      0.98      0.99       354\n",
      "           8       0.73      0.80      0.77       317\n",
      "           9       1.00      1.00      1.00       317\n",
      "          10       0.89      0.81      0.85       302\n",
      "          11       0.97      0.99      0.98       278\n",
      "\n",
      "    accuracy                           0.86      4723\n",
      "   macro avg       0.87      0.87      0.87      4723\n",
      "weighted avg       0.86      0.86      0.86      4723\n",
      "\n"
     ]
    }
   ],
   "source": [
    "print_metrics(val_df['label'], ypred_val_svm)"
   ]
  },
  {
   "cell_type": "code",
   "execution_count": null,
   "id": "204eab9f",
   "metadata": {},
   "outputs": [],
   "source": [
    "## stopword removal"
   ]
  },
  {
   "cell_type": "code",
   "execution_count": 21,
   "id": "998ec86d",
   "metadata": {
    "scrolled": true
   },
   "outputs": [
    {
     "name": "stdout",
     "output_type": "stream",
     "text": [
      "Accuracy:\t 0.8966758416260852\n",
      "Confusion matrix:\n",
      " [[530   0  25  15   5  12   2   0   1   0   1   0]\n",
      " [  3 499   2  13   1   0   0   0   0   0   0   0]\n",
      " [ 27   3 361   7   1  23  45   0   4   0   0   0]\n",
      " [ 23  12   6 341  16   5   1   0  17   1  11   0]\n",
      " [  7  15   4  16 373   1   0   0   8   2   0   0]\n",
      " [ 16   0  35   2   1 324   3   0   0   0   0   0]\n",
      " [  2   0   6   0   0   0 324   0   0   0   0   0]\n",
      " [  2   0   1   0   0   0   0 370   0   0   0   0]\n",
      " [  6   2   1  17   7   0   0   0 298   0  20   0]\n",
      " [  0   0   0   0   0   0   0   0   0 304   0   0]\n",
      " [  0   1   0   1   0   0   0   0  28   1 254   0]\n",
      " [  1   0   0   0   0   0   0   0   0   0   0 257]]\n",
      "Classification Report:\n",
      "               precision    recall  f1-score   support\n",
      "\n",
      "           0       0.86      0.90      0.88       591\n",
      "           1       0.94      0.96      0.95       518\n",
      "           2       0.82      0.77      0.79       471\n",
      "           3       0.83      0.79      0.81       433\n",
      "           4       0.92      0.88      0.90       426\n",
      "           5       0.89      0.85      0.87       381\n",
      "           6       0.86      0.98      0.92       332\n",
      "           7       1.00      0.99      1.00       373\n",
      "           8       0.84      0.85      0.84       351\n",
      "           9       0.99      1.00      0.99       304\n",
      "          10       0.89      0.89      0.89       285\n",
      "          11       1.00      1.00      1.00       258\n",
      "\n",
      "    accuracy                           0.90      4723\n",
      "   macro avg       0.90      0.90      0.90      4723\n",
      "weighted avg       0.90      0.90      0.90      4723\n",
      "\n"
     ]
    }
   ],
   "source": [
    "text_clf = Pipeline([('vect', CountVectorizer(stop_words='english')),\n",
    "                     ('tfidf', TfidfTransformer()),\n",
    "                    ('clf', MultinomialNB()),])\n",
    "\n",
    "text_clf.fit(train_df.text, train_df.label)\n",
    "ypred_val_nb_sw = text_clf.predict(val_df.text)\n",
    "\n",
    "print_metrics(val_df['label'], ypred_val_nb_sw)"
   ]
  },
  {
   "cell_type": "code",
   "execution_count": 22,
   "id": "06150f6f",
   "metadata": {},
   "outputs": [],
   "source": [
    "ypred_test_nb_sw = text_clf.predict(test_df.text)\n",
    "ypred_test_nb_sw = pd.Series(ypred_test_nb_sw)"
   ]
  },
  {
   "cell_type": "code",
   "execution_count": 26,
   "id": "1cb4c770",
   "metadata": {},
   "outputs": [
    {
     "data": {
      "text/plain": [
       "0     737\n",
       "1     663\n",
       "2     590\n",
       "4     524\n",
       "5     518\n",
       "3     514\n",
       "8     450\n",
       "6     446\n",
       "7     395\n",
       "9     386\n",
       "10    337\n",
       "11    334\n",
       "dtype: int64"
      ]
     },
     "execution_count": 26,
     "metadata": {},
     "output_type": "execute_result"
    }
   ],
   "source": [
    "ypred_test_nb_sw.value_counts()"
   ]
  },
  {
   "cell_type": "code",
   "execution_count": 28,
   "id": "afafb55a",
   "metadata": {},
   "outputs": [
    {
     "data": {
      "text/plain": [
       "85389000    737\n",
       "85177090    663\n",
       "85369090    590\n",
       "73181500    524\n",
       "85366990    518\n",
       "39269099    514\n",
       "87089900    450\n",
       "85364900    446\n",
       "85238090    395\n",
       "33041000    386\n",
       "87082900    337\n",
       "84713010    334\n",
       "dtype: int64"
      ]
     },
     "execution_count": 28,
     "metadata": {},
     "output_type": "execute_result"
    }
   ],
   "source": [
    "ypred_test_nb_sw.map(label_rev_map).value_counts()"
   ]
  },
  {
   "cell_type": "code",
   "execution_count": 37,
   "id": "74fabe2a",
   "metadata": {},
   "outputs": [],
   "source": [
    "finalOutput = test_df[['text']].copy()\n",
    "finalOutput['label'] = ypred_test_nb_sw.map(label_rev_map)"
   ]
  },
  {
   "cell_type": "code",
   "execution_count": 38,
   "id": "e300e79b",
   "metadata": {},
   "outputs": [
    {
     "data": {
      "text/html": [
       "<div>\n",
       "<style scoped>\n",
       "    .dataframe tbody tr th:only-of-type {\n",
       "        vertical-align: middle;\n",
       "    }\n",
       "\n",
       "    .dataframe tbody tr th {\n",
       "        vertical-align: top;\n",
       "    }\n",
       "\n",
       "    .dataframe thead th {\n",
       "        text-align: right;\n",
       "    }\n",
       "</style>\n",
       "<table border=\"1\" class=\"dataframe\">\n",
       "  <thead>\n",
       "    <tr style=\"text-align: right;\">\n",
       "      <th></th>\n",
       "      <th>text</th>\n",
       "      <th>label</th>\n",
       "    </tr>\n",
       "  </thead>\n",
       "  <tbody>\n",
       "    <tr>\n",
       "      <th>0</th>\n",
       "      <td>lv tmd pd trip unit for nh parts of circuit br...</td>\n",
       "      <td>85389000</td>\n",
       "    </tr>\n",
       "    <tr>\n",
       "      <th>1</th>\n",
       "      <td>module tm analog outputs analog output expansi...</td>\n",
       "      <td>85389000</td>\n",
       "    </tr>\n",
       "    <tr>\n",
       "      <th>2</th>\n",
       "      <td>command group t iii mechanismt p parts forcir...</td>\n",
       "      <td>85389000</td>\n",
       "    </tr>\n",
       "    <tr>\n",
       "      <th>3</th>\n",
       "      <td>parts of relayelectrical contact  issu e f xxup</td>\n",
       "      <td>85389000</td>\n",
       "    </tr>\n",
       "    <tr>\n",
       "      <th>4</th>\n",
       "      <td>parts for programmable logic controllers  dm  ...</td>\n",
       "      <td>85389000</td>\n",
       "    </tr>\n",
       "    <tr>\n",
       "      <th>...</th>\n",
       "      <td>...</td>\n",
       "      <td>...</td>\n",
       "    </tr>\n",
       "    <tr>\n",
       "      <th>5889</th>\n",
       "      <td>gdf latitude  portable computernotebookassyba...</td>\n",
       "      <td>84713010</td>\n",
       "    </tr>\n",
       "    <tr>\n",
       "      <th>5890</th>\n",
       "      <td>cfjx precision  portable computernotebook ass...</td>\n",
       "      <td>84713010</td>\n",
       "    </tr>\n",
       "    <tr>\n",
       "      <th>5891</th>\n",
       "      <td>eguujnnincnnnuas xuup acj note book computer l...</td>\n",
       "      <td>84713010</td>\n",
       "    </tr>\n",
       "    <tr>\n",
       "      <th>5892</th>\n",
       "      <td>egubjnninnnnums wwup note book computer laptop...</td>\n",
       "      <td>84713010</td>\n",
       "    </tr>\n",
       "    <tr>\n",
       "      <th>5893</th>\n",
       "      <td>lqav hp ids uma iu  g bnbpchp laptophstnnicbis...</td>\n",
       "      <td>84713010</td>\n",
       "    </tr>\n",
       "  </tbody>\n",
       "</table>\n",
       "<p>5894 rows × 2 columns</p>\n",
       "</div>"
      ],
      "text/plain": [
       "                                                   text     label\n",
       "0     lv tmd pd trip unit for nh parts of circuit br...  85389000\n",
       "1     module tm analog outputs analog output expansi...  85389000\n",
       "2      command group t iii mechanismt p parts forcir...  85389000\n",
       "3       parts of relayelectrical contact  issu e f xxup  85389000\n",
       "4     parts for programmable logic controllers  dm  ...  85389000\n",
       "...                                                 ...       ...\n",
       "5889   gdf latitude  portable computernotebookassyba...  84713010\n",
       "5890   cfjx precision  portable computernotebook ass...  84713010\n",
       "5891  eguujnnincnnnuas xuup acj note book computer l...  84713010\n",
       "5892  egubjnninnnnums wwup note book computer laptop...  84713010\n",
       "5893  lqav hp ids uma iu  g bnbpchp laptophstnnicbis...  84713010\n",
       "\n",
       "[5894 rows x 2 columns]"
      ]
     },
     "execution_count": 38,
     "metadata": {},
     "output_type": "execute_result"
    }
   ],
   "source": [
    "finalOutput"
   ]
  },
  {
   "cell_type": "code",
   "execution_count": 39,
   "id": "751498bb",
   "metadata": {},
   "outputs": [],
   "source": [
    "finalOutput.to_csv('../data/task2_pred_output.csv', index=False)"
   ]
  },
  {
   "cell_type": "code",
   "execution_count": null,
   "id": "d1aefce1",
   "metadata": {},
   "outputs": [],
   "source": [
    "## observations\n",
    "tried stopword removal: helped\n",
    "tried stemming: didnot helped\n",
    "tried bow: tfidf gave better performance"
   ]
  }
 ],
 "metadata": {
  "kernelspec": {
   "display_name": "Python 3",
   "language": "python",
   "name": "python3"
  },
  "language_info": {
   "codemirror_mode": {
    "name": "ipython",
    "version": 3
   },
   "file_extension": ".py",
   "mimetype": "text/x-python",
   "name": "python",
   "nbconvert_exporter": "python",
   "pygments_lexer": "ipython3",
   "version": "3.7.3"
  }
 },
 "nbformat": 4,
 "nbformat_minor": 5
}
