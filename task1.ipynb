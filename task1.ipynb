{
 "cells": [
  {
   "cell_type": "code",
   "execution_count": 1,
   "id": "84e27e73",
   "metadata": {},
   "outputs": [],
   "source": [
    "import os\n",
    "import cv2\n",
    "import numpy as np\n",
    "from scipy.ndimage import interpolation as inter\n",
    "from prettytable import PrettyTable\n",
    "import matplotlib.pyplot as plt"
   ]
  },
  {
   "cell_type": "code",
   "execution_count": 8,
   "id": "2479baed",
   "metadata": {},
   "outputs": [],
   "source": [
    "def rotate_align(inp_image, max_angle=5, delta=0.05):\n",
    "    \"\"\"find angle where histogram score difference is maximum and rotate image to that angle. \n",
    "    return angle and rotated image\"\"\"\n",
    "    def find_hist_score(bin_img, angle):\n",
    "        \"\"\"find histogram score for an image for a given angle\"\"\"\n",
    "        \n",
    "        rotated_img = inter.rotate(bin_img, angle, reshape=False, order=0)\n",
    "        verticle_sum = np.sum(rotated_img, axis=1)\n",
    "        score = np.sum((verticle_sum[1:] - verticle_sum[:-1]) ** 2)\n",
    "        return verticle_sum, score\n",
    "\n",
    "    bw_img = cv2.cvtColor(inp_image, cv2.COLOR_BGR2GRAY) ## color to gray\n",
    "    bin_img = cv2.threshold(bw_img, 0, 255, cv2.THRESH_BINARY_INV + cv2.THRESH_OTSU)[1] ## binarize inp_image\n",
    "\n",
    "    hist_score_list = []\n",
    "    list_angles = np.arange(-max_angle, max_angle + delta, delta)\n",
    "    \n",
    "#     max_score = -999\n",
    "    for angle in list_angles:\n",
    "        verticle_sum, score = find_hist_score(bin_img, angle)\n",
    "        hist_score_list.append(score)\n",
    "\n",
    "    best_angle = list_angles[hist_score_list.index(max(hist_score_list))]\n",
    "\n",
    "    height, width = inp_image.shape[:2]\n",
    "    mid_pt = (width // 2, height // 2)\n",
    "    M = cv2.getRotationMatrix2D(mid_pt, best_angle, 1.0)\n",
    "    aligned_img = cv2.warpAffine(inp_image, M, (width, height), flags=cv2.INTER_CUBIC, \\\n",
    "              borderMode=cv2.BORDER_REPLICATE)\n",
    "\n",
    "    return best_angle, aligned_img"
   ]
  },
  {
   "cell_type": "code",
   "execution_count": 9,
   "id": "3df039f0",
   "metadata": {},
   "outputs": [
    {
     "name": "stdout",
     "output_type": "stream",
     "text": [
      "+------------------------------------------+------------+\n",
      "|                 FileName                 |  Aligned?  |\n",
      "+------------------------------------------+------------+\n",
      "|   0e27f636242845138158f132878a3351.jpg   | Misaligned |\n",
      "|                  7.jpg                   | Misaligned |\n",
      "|                  5.jpg                   | Misaligned |\n",
      "|   5f228310d55c683ed29aa8c0adda7efc.jpg   | Misaligned |\n",
      "|                  4.jpg                   | Misaligned |\n",
      "|                  10.jpg                  | Misaligned |\n",
      "| 0f97914844b786b0d2ef21339286cdf6 - 2.jpg | Misaligned |\n",
      "|                  41.jpg                  | Misaligned |\n",
      "|                AWT009.jpg                | Misaligned |\n",
      "|                 6 2.jpg                  | Misaligned |\n",
      "|                  6.jpg                   | Misaligned |\n",
      "|      law-firm-invoice-template.jpg       | Misaligned |\n",
      "|  billing-invoice-for-legal-services.jpg  | Misaligned |\n",
      "+------------------------------------------+------------+\n"
     ]
    }
   ],
   "source": [
    "if __name__ == '__main__':\n",
    "    aligned_path = '../data/aligned_images_new/'\n",
    "    misaligned_path = '../data/misaligned_images/'\n",
    "    \n",
    "    orig_imgs = os.listdir(misaligned_path)\n",
    "\n",
    "    table = PrettyTable(['FileName', 'Aligned?'])\n",
    "    \n",
    "    if not os.path.exists(aligned_path):\n",
    "        os.mkdir(aligned_path)\n",
    "        \n",
    "    for i, img_id in enumerate(orig_imgs):\n",
    "        image = cv2.imread(os.path.join(misaligned_path, img_id))\n",
    "        angle, rotated = rotate_align(image)\n",
    "        if angle==0:\n",
    "            table.add_row([img_id, \"Already Aligned\"])\n",
    "        else:\n",
    "            table.add_row([img_id, \"Misaligned\"])\n",
    "        cv2.imwrite(os.path.join(aligned_path, img_id), rotated)\n",
    "    print(table)"
   ]
  }
 ],
 "metadata": {
  "kernelspec": {
   "display_name": "Python 3",
   "language": "python",
   "name": "python3"
  },
  "language_info": {
   "codemirror_mode": {
    "name": "ipython",
    "version": 3
   },
   "file_extension": ".py",
   "mimetype": "text/x-python",
   "name": "python",
   "nbconvert_exporter": "python",
   "pygments_lexer": "ipython3",
   "version": "3.7.3"
  }
 },
 "nbformat": 4,
 "nbformat_minor": 5
}
