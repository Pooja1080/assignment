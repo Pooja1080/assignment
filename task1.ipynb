{
  "cells": [
    {
      "cell_type": "code",
      "source": [
        "!pip uninstall -y pyautogen"
      ],
      "metadata": {
        "id": "NoLRqNnXsNQa",
        "outputId": "74b38267-ce13-47db-c0cc-45220c19aeba",
        "colab": {
          "base_uri": "https://localhost:8080/"
        }
      },
      "id": "NoLRqNnXsNQa",
      "execution_count": 21,
      "outputs": [
        {
          "output_type": "stream",
          "name": "stdout",
          "text": [
            "Found existing installation: pyautogen 0.10.0\n",
            "Uninstalling pyautogen-0.10.0:\n",
            "  Successfully uninstalled pyautogen-0.10.0\n"
          ]
        }
      ]
    },
    {
      "cell_type": "code",
      "source": [
        "!pip install ag2"
      ],
      "metadata": {
        "id": "ZGe_x4MJst7l",
        "outputId": "4dbda972-2af3-46ed-dca1-75c1f520ddcb",
        "colab": {
          "base_uri": "https://localhost:8080/"
        }
      },
      "id": "ZGe_x4MJst7l",
      "execution_count": 22,
      "outputs": [
        {
          "output_type": "stream",
          "name": "stdout",
          "text": [
            "Requirement already satisfied: ag2 in /usr/local/lib/python3.11/dist-packages (0.9.6)\n",
            "Requirement already satisfied: anyio<5.0.0,>=3.0.0 in /usr/local/lib/python3.11/dist-packages (from ag2) (4.9.0)\n",
            "Requirement already satisfied: asyncer==0.0.8 in /usr/local/lib/python3.11/dist-packages (from ag2) (0.0.8)\n",
            "Requirement already satisfied: diskcache in /usr/local/lib/python3.11/dist-packages (from ag2) (5.6.3)\n",
            "Requirement already satisfied: docker in /usr/local/lib/python3.11/dist-packages (from ag2) (7.1.0)\n",
            "Requirement already satisfied: httpx<1,>=0.28.1 in /usr/local/lib/python3.11/dist-packages (from ag2) (0.28.1)\n",
            "Requirement already satisfied: packaging in /usr/local/lib/python3.11/dist-packages (from ag2) (24.2)\n",
            "Requirement already satisfied: pydantic<3,>=2.6.1 in /usr/local/lib/python3.11/dist-packages (from ag2) (2.11.7)\n",
            "Requirement already satisfied: python-dotenv in /usr/local/lib/python3.11/dist-packages (from ag2) (1.1.1)\n",
            "Requirement already satisfied: termcolor in /usr/local/lib/python3.11/dist-packages (from ag2) (3.1.0)\n",
            "Requirement already satisfied: tiktoken in /usr/local/lib/python3.11/dist-packages (from ag2) (0.9.0)\n",
            "Requirement already satisfied: idna>=2.8 in /usr/local/lib/python3.11/dist-packages (from anyio<5.0.0,>=3.0.0->ag2) (3.10)\n",
            "Requirement already satisfied: sniffio>=1.1 in /usr/local/lib/python3.11/dist-packages (from anyio<5.0.0,>=3.0.0->ag2) (1.3.1)\n",
            "Requirement already satisfied: typing_extensions>=4.5 in /usr/local/lib/python3.11/dist-packages (from anyio<5.0.0,>=3.0.0->ag2) (4.14.1)\n",
            "Requirement already satisfied: certifi in /usr/local/lib/python3.11/dist-packages (from httpx<1,>=0.28.1->ag2) (2025.7.14)\n",
            "Requirement already satisfied: httpcore==1.* in /usr/local/lib/python3.11/dist-packages (from httpx<1,>=0.28.1->ag2) (1.0.9)\n",
            "Requirement already satisfied: h11>=0.16 in /usr/local/lib/python3.11/dist-packages (from httpcore==1.*->httpx<1,>=0.28.1->ag2) (0.16.0)\n",
            "Requirement already satisfied: annotated-types>=0.6.0 in /usr/local/lib/python3.11/dist-packages (from pydantic<3,>=2.6.1->ag2) (0.7.0)\n",
            "Requirement already satisfied: pydantic-core==2.33.2 in /usr/local/lib/python3.11/dist-packages (from pydantic<3,>=2.6.1->ag2) (2.33.2)\n",
            "Requirement already satisfied: typing-inspection>=0.4.0 in /usr/local/lib/python3.11/dist-packages (from pydantic<3,>=2.6.1->ag2) (0.4.1)\n",
            "Requirement already satisfied: requests>=2.26.0 in /usr/local/lib/python3.11/dist-packages (from docker->ag2) (2.32.3)\n",
            "Requirement already satisfied: urllib3>=1.26.0 in /usr/local/lib/python3.11/dist-packages (from docker->ag2) (2.4.0)\n",
            "Requirement already satisfied: regex>=2022.1.18 in /usr/local/lib/python3.11/dist-packages (from tiktoken->ag2) (2024.11.6)\n",
            "Requirement already satisfied: charset-normalizer<4,>=2 in /usr/local/lib/python3.11/dist-packages (from requests>=2.26.0->docker->ag2) (3.4.2)\n"
          ]
        }
      ]
    },
    {
      "cell_type": "code",
      "source": [
        "!pip install pyautogen"
      ],
      "metadata": {
        "collapsed": true,
        "id": "n-Rn37IwcUNP",
        "outputId": "7790ff8d-ce9a-4874-f002-8713035f9ab2",
        "colab": {
          "base_uri": "https://localhost:8080/"
        }
      },
      "id": "n-Rn37IwcUNP",
      "execution_count": 23,
      "outputs": [
        {
          "output_type": "stream",
          "name": "stdout",
          "text": [
            "Collecting pyautogen\n",
            "  Using cached pyautogen-0.10.0-py3-none-any.whl.metadata (2.6 kB)\n",
            "Requirement already satisfied: autogen-agentchat>=0.6.4 in /usr/local/lib/python3.11/dist-packages (from pyautogen) (0.6.4)\n",
            "Requirement already satisfied: autogen-core==0.6.4 in /usr/local/lib/python3.11/dist-packages (from autogen-agentchat>=0.6.4->pyautogen) (0.6.4)\n",
            "Requirement already satisfied: jsonref~=1.1.0 in /usr/local/lib/python3.11/dist-packages (from autogen-core==0.6.4->autogen-agentchat>=0.6.4->pyautogen) (1.1.0)\n",
            "Requirement already satisfied: opentelemetry-api>=1.34.1 in /usr/local/lib/python3.11/dist-packages (from autogen-core==0.6.4->autogen-agentchat>=0.6.4->pyautogen) (1.35.0)\n",
            "Requirement already satisfied: pillow>=11.0.0 in /usr/local/lib/python3.11/dist-packages (from autogen-core==0.6.4->autogen-agentchat>=0.6.4->pyautogen) (11.2.1)\n",
            "Requirement already satisfied: protobuf~=5.29.3 in /usr/local/lib/python3.11/dist-packages (from autogen-core==0.6.4->autogen-agentchat>=0.6.4->pyautogen) (5.29.5)\n",
            "Requirement already satisfied: pydantic<3.0.0,>=2.10.0 in /usr/local/lib/python3.11/dist-packages (from autogen-core==0.6.4->autogen-agentchat>=0.6.4->pyautogen) (2.11.7)\n",
            "Requirement already satisfied: typing-extensions>=4.0.0 in /usr/local/lib/python3.11/dist-packages (from autogen-core==0.6.4->autogen-agentchat>=0.6.4->pyautogen) (4.14.1)\n",
            "Requirement already satisfied: importlib-metadata<8.8.0,>=6.0 in /usr/local/lib/python3.11/dist-packages (from opentelemetry-api>=1.34.1->autogen-core==0.6.4->autogen-agentchat>=0.6.4->pyautogen) (8.7.0)\n",
            "Requirement already satisfied: annotated-types>=0.6.0 in /usr/local/lib/python3.11/dist-packages (from pydantic<3.0.0,>=2.10.0->autogen-core==0.6.4->autogen-agentchat>=0.6.4->pyautogen) (0.7.0)\n",
            "Requirement already satisfied: pydantic-core==2.33.2 in /usr/local/lib/python3.11/dist-packages (from pydantic<3.0.0,>=2.10.0->autogen-core==0.6.4->autogen-agentchat>=0.6.4->pyautogen) (2.33.2)\n",
            "Requirement already satisfied: typing-inspection>=0.4.0 in /usr/local/lib/python3.11/dist-packages (from pydantic<3.0.0,>=2.10.0->autogen-core==0.6.4->autogen-agentchat>=0.6.4->pyautogen) (0.4.1)\n",
            "Requirement already satisfied: zipp>=3.20 in /usr/local/lib/python3.11/dist-packages (from importlib-metadata<8.8.0,>=6.0->opentelemetry-api>=1.34.1->autogen-core==0.6.4->autogen-agentchat>=0.6.4->pyautogen) (3.23.0)\n",
            "Using cached pyautogen-0.10.0-py3-none-any.whl (3.0 kB)\n",
            "Installing collected packages: pyautogen\n",
            "Successfully installed pyautogen-0.10.0\n"
          ]
        }
      ]
    },
    {
      "cell_type": "code",
      "source": [
        "!pip install openai"
      ],
      "metadata": {
        "collapsed": true,
        "id": "afoIUFZjfoTi",
        "outputId": "a40c8e46-d05d-453f-c730-bc5249239361",
        "colab": {
          "base_uri": "https://localhost:8080/"
        }
      },
      "id": "afoIUFZjfoTi",
      "execution_count": 24,
      "outputs": [
        {
          "output_type": "stream",
          "name": "stdout",
          "text": [
            "Requirement already satisfied: openai in /usr/local/lib/python3.11/dist-packages (1.95.1)\n",
            "Requirement already satisfied: anyio<5,>=3.5.0 in /usr/local/lib/python3.11/dist-packages (from openai) (4.9.0)\n",
            "Requirement already satisfied: distro<2,>=1.7.0 in /usr/local/lib/python3.11/dist-packages (from openai) (1.9.0)\n",
            "Requirement already satisfied: httpx<1,>=0.23.0 in /usr/local/lib/python3.11/dist-packages (from openai) (0.28.1)\n",
            "Requirement already satisfied: jiter<1,>=0.4.0 in /usr/local/lib/python3.11/dist-packages (from openai) (0.10.0)\n",
            "Requirement already satisfied: pydantic<3,>=1.9.0 in /usr/local/lib/python3.11/dist-packages (from openai) (2.11.7)\n",
            "Requirement already satisfied: sniffio in /usr/local/lib/python3.11/dist-packages (from openai) (1.3.1)\n",
            "Requirement already satisfied: tqdm>4 in /usr/local/lib/python3.11/dist-packages (from openai) (4.67.1)\n",
            "Requirement already satisfied: typing-extensions<5,>=4.11 in /usr/local/lib/python3.11/dist-packages (from openai) (4.14.1)\n",
            "Requirement already satisfied: idna>=2.8 in /usr/local/lib/python3.11/dist-packages (from anyio<5,>=3.5.0->openai) (3.10)\n",
            "Requirement already satisfied: certifi in /usr/local/lib/python3.11/dist-packages (from httpx<1,>=0.23.0->openai) (2025.7.14)\n",
            "Requirement already satisfied: httpcore==1.* in /usr/local/lib/python3.11/dist-packages (from httpx<1,>=0.23.0->openai) (1.0.9)\n",
            "Requirement already satisfied: h11>=0.16 in /usr/local/lib/python3.11/dist-packages (from httpcore==1.*->httpx<1,>=0.23.0->openai) (0.16.0)\n",
            "Requirement already satisfied: annotated-types>=0.6.0 in /usr/local/lib/python3.11/dist-packages (from pydantic<3,>=1.9.0->openai) (0.7.0)\n",
            "Requirement already satisfied: pydantic-core==2.33.2 in /usr/local/lib/python3.11/dist-packages (from pydantic<3,>=1.9.0->openai) (2.33.2)\n",
            "Requirement already satisfied: typing-inspection>=0.4.0 in /usr/local/lib/python3.11/dist-packages (from pydantic<3,>=1.9.0->openai) (0.4.1)\n"
          ]
        }
      ]
    },
    {
      "cell_type": "code",
      "source": [
        "import os\n",
        "from autogen import AssistantAgent, UserProxyAgent"
      ],
      "metadata": {
        "id": "7R1RFZMIcDq6"
      },
      "id": "7R1RFZMIcDq6",
      "execution_count": 25,
      "outputs": []
    },
    {
      "cell_type": "code",
      "source": [
        "from openai import OpenAI\n",
        "print(\"hi\")"
      ],
      "metadata": {
        "id": "z-OTCZZYfmis",
        "outputId": "db05a78e-687e-43b5-e714-ac3cf9a572bf",
        "colab": {
          "base_uri": "https://localhost:8080/"
        }
      },
      "id": "z-OTCZZYfmis",
      "execution_count": 28,
      "outputs": [
        {
          "output_type": "stream",
          "name": "stdout",
          "text": [
            "hi\n"
          ]
        }
      ]
    },
    {
      "cell_type": "code",
      "source": [
        "model = 'deepseek-r1'\n",
        "\n",
        "llm_config = {\n",
        "    \"model\": model,\n",
        "    \"api_key\": userdata.get('GH_KEY'),\n",
        "    \"base_url\": userdata.get('BASE_URL'),\n",
        "}"
      ],
      "metadata": {
        "id": "ppFKoO6voQ0s"
      },
      "id": "ppFKoO6voQ0s",
      "execution_count": 37,
      "outputs": []
    },
    {
      "cell_type": "code",
      "source": [
        "file_path = \"/content/coding/synthetic_bank_customer_data(in).csv\""
      ],
      "metadata": {
        "id": "fRdWdxusIH9c"
      },
      "id": "fRdWdxusIH9c",
      "execution_count": 44,
      "outputs": []
    },
    {
      "cell_type": "code",
      "source": [
        "assistant = AssistantAgent(\n",
        "    name = 'assistant',\n",
        "    system_message=\"\"\"You are tasked with generating code to analyze structured data. \"\n",
        "        \"Your goal is to produce clear, efficient, and correct Python code using Pandas. \"\n",
        "        \"Ensure the user agent's queries are addressed accurately.\"\"\",\n",
        "    # system_message=\"You are responsible for code generation. Please communicate with user agent and fix any issues.\",\n",
        "    llm_config=llm_config,\n",
        ")\n",
        "\n",
        "user = UserProxyAgent(\n",
        "    name = 'user',\n",
        "    system_message=\"\"\"You manage code execution and result compilation. \"\n",
        "        \"Communicate effectively with the assistant agent to ensure each step is correctly executed. \"\n",
        "        \"Request user feedback after each code execution cycle.\"\"\",\n",
        "    # system_message=\"You are responsible for code executor. Please communicate with assistant agent and fix any issues. Ask for user feedback at the end of code execution.\",\n",
        "    human_input_mode=\"TERMINATE\",\n",
        "    code_execution_config={\n",
        "        \"work_dir\": \"coding\",\n",
        "        \"use_docker\": False,\n",
        "    },\n",
        "    llm_config=llm_config,\n",
        ")\n"
      ],
      "metadata": {
        "id": "UNXfRvkYo-rG"
      },
      "id": "UNXfRvkYo-rG",
      "execution_count": 46,
      "outputs": []
    },
    {
      "cell_type": "code",
      "source": [
        "\n",
        "\n",
        "\n",
        "user.initiate_chat(assistant,\n",
        "                   message = f\"\"\"\n",
        "Load the CSV file from {file_path} using Pandas in Python. After loading, perform the following analyses:\n",
        "\n",
        "1. Calculate the average account balance segmented by gender, age group, and job classification.\n",
        "   Ensure the output is clear and structured, possibly using DataFrame operations like `groupby` and aggregations.\n",
        "\n",
        "2. Identify regions with the highest density of each job classification.\n",
        "   This should include a summary of regions, clearly highlighting where specific job types are concentrated.\n",
        "\n",
        "For each analysis, save the results to 'output.csv', specifying separate sections for each query result.\n",
        "Validate that results are accurate and meet the data question parameters before saving.\n",
        "\n",
        "Communicate with the assistant agent if any adjustments or clarifications in the dataset are needed.\n",
        "\"\"\")\n",
        "#                    message=f\"\"\"Load the csv file from {file_path} use pandas python and answer the following questions.\n",
        "# 1. What is the average balance by gender, age group, and job classification?\n",
        "# 2. Which regions have the highest concentration of specific job classifications?\n",
        "# For each of the questions above, save the results in output.csv \"\"\")"
      ],
      "metadata": {
        "colab": {
          "base_uri": "https://localhost:8080/"
        },
        "id": "WzA5yQUlcDf1",
        "outputId": "93b2cc3a-edd2-4fe1-9a6d-c016a16a7ac8"
      },
      "id": "WzA5yQUlcDf1",
      "execution_count": null,
      "outputs": [
        {
          "output_type": "stream",
          "name": "stdout",
          "text": [
            "user (to assistant):\n",
            "\n",
            "\n",
            "Load the CSV file from /content/coding/synthetic_bank_customer_data(in).csv using Pandas in Python. After loading, perform the following analyses:\n",
            "\n",
            "1. Calculate the average account balance segmented by gender, age group, and job classification. \n",
            "   Ensure the output is clear and structured, possibly using DataFrame operations like `groupby` and aggregations.\n",
            "\n",
            "2. Identify regions with the highest density of each job classification. \n",
            "   This should include a summary of regions, clearly highlighting where specific job types are concentrated.\n",
            "\n",
            "For each analysis, save the results to 'output.csv', specifying separate sections for each query result.\n",
            "Validate that results are accurate and meet the data question parameters before saving.\n",
            "\n",
            "Communicate with the assistant agent if any adjustments or clarifications in the dataset are needed.\n",
            "\n",
            "\n",
            "--------------------------------------------------------------------------------\n"
          ]
        }
      ]
    },
    {
      "cell_type": "code",
      "source": [],
      "metadata": {
        "id": "l22kTN3pcDc-"
      },
      "id": "l22kTN3pcDc-",
      "execution_count": null,
      "outputs": []
    },
    {
      "cell_type": "code",
      "source": [],
      "metadata": {
        "id": "cSA6TorEcDaD"
      },
      "id": "cSA6TorEcDaD",
      "execution_count": null,
      "outputs": []
    },
    {
      "cell_type": "code",
      "source": [],
      "metadata": {
        "id": "gQ5nWjoGcDXY"
      },
      "id": "gQ5nWjoGcDXY",
      "execution_count": null,
      "outputs": []
    },
    {
      "cell_type": "code",
      "source": [],
      "metadata": {
        "id": "JJKWv6w6cDU5"
      },
      "id": "JJKWv6w6cDU5",
      "execution_count": null,
      "outputs": []
    },
    {
      "cell_type": "code",
      "source": [],
      "metadata": {
        "id": "yKvgLxfDcDR8"
      },
      "id": "yKvgLxfDcDR8",
      "execution_count": null,
      "outputs": []
    },
    {
      "cell_type": "code",
      "source": [],
      "metadata": {
        "id": "5BvRe52fcDO9"
      },
      "id": "5BvRe52fcDO9",
      "execution_count": null,
      "outputs": []
    },
    {
      "cell_type": "code",
      "source": [],
      "metadata": {
        "id": "ZMi_UVPWcDMd"
      },
      "id": "ZMi_UVPWcDMd",
      "execution_count": null,
      "outputs": []
    },
    {
      "cell_type": "code",
      "source": [],
      "metadata": {
        "id": "be-xxMIqcDJm"
      },
      "id": "be-xxMIqcDJm",
      "execution_count": null,
      "outputs": []
    }
  ],
  "metadata": {
    "kernelspec": {
      "display_name": "Python 3",
      "name": "python3"
    },
    "language_info": {
      "codemirror_mode": {
        "name": "ipython",
        "version": 3
      },
      "file_extension": ".py",
      "mimetype": "text/x-python",
      "name": "python",
      "nbconvert_exporter": "python",
      "pygments_lexer": "ipython3",
      "version": "3.7.3"
    },
    "colab": {
      "provenance": [],
      "gpuType": "T4"
    },
    "accelerator": "GPU"
  },
  "nbformat": 4,
  "nbformat_minor": 5
}